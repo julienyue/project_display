{
 "cells": [
  {
   "cell_type": "markdown",
   "metadata": {},
   "source": [
    "# An analysis of the State of the Union speeches - Part 1"
   ]
  },
  {
   "cell_type": "code",
   "execution_count": 1,
   "metadata": {
    "collapsed": true
   },
   "outputs": [],
   "source": [
    "%matplotlib inline\n",
    "import matplotlib.pyplot as plt\n",
    "import numpy as np\n",
    "import pandas as pd\n",
    "import seaborn as sns\n",
    "\n",
    "import shelve\n",
    "\n",
    "from collections import Counter\n",
    "import datetime\n",
    "import os\n",
    "\n",
    "plt.style.use('seaborn-dark')\n",
    "plt.rcParams['figure.figsize'] = (10, 6)"
   ]
  },
  {
   "cell_type": "markdown",
   "metadata": {},
   "source": [
    "We first need to load in the data from the text file and break it into speeches. We also will create a data frame of presidents and addresses/dates."
   ]
  },
  {
   "cell_type": "code",
   "execution_count": 2,
   "metadata": {},
   "outputs": [
    {
     "data": {
      "text/html": [
       "<div>\n",
       "<style>\n",
       "    .dataframe thead tr:only-child th {\n",
       "        text-align: right;\n",
       "    }\n",
       "\n",
       "    .dataframe thead th {\n",
       "        text-align: left;\n",
       "    }\n",
       "\n",
       "    .dataframe tbody tr th {\n",
       "        vertical-align: top;\n",
       "    }\n",
       "</style>\n",
       "<table border=\"1\" class=\"dataframe\">\n",
       "  <thead>\n",
       "    <tr style=\"text-align: right;\">\n",
       "      <th></th>\n",
       "      <th>president</th>\n",
       "      <th>title</th>\n",
       "      <th>date</th>\n",
       "    </tr>\n",
       "  </thead>\n",
       "  <tbody>\n",
       "    <tr>\n",
       "      <th>0</th>\n",
       "      <td>George Washington</td>\n",
       "      <td>State of the Union Address</td>\n",
       "      <td>1790-01-08</td>\n",
       "    </tr>\n",
       "    <tr>\n",
       "      <th>1</th>\n",
       "      <td>George Washington</td>\n",
       "      <td>State of the Union Address</td>\n",
       "      <td>1790-12-08</td>\n",
       "    </tr>\n",
       "    <tr>\n",
       "      <th>2</th>\n",
       "      <td>George Washington</td>\n",
       "      <td>State of the Union Address</td>\n",
       "      <td>1791-10-25</td>\n",
       "    </tr>\n",
       "    <tr>\n",
       "      <th>3</th>\n",
       "      <td>George Washington</td>\n",
       "      <td>State of the Union Address</td>\n",
       "      <td>1792-11-06</td>\n",
       "    </tr>\n",
       "    <tr>\n",
       "      <th>4</th>\n",
       "      <td>George Washington</td>\n",
       "      <td>State of the Union Address</td>\n",
       "      <td>1793-12-03</td>\n",
       "    </tr>\n",
       "  </tbody>\n",
       "</table>\n",
       "</div>"
      ],
      "text/plain": [
       "           president                        title       date\n",
       "0  George Washington   State of the Union Address 1790-01-08\n",
       "1  George Washington   State of the Union Address 1790-12-08\n",
       "2  George Washington   State of the Union Address 1791-10-25\n",
       "3  George Washington   State of the Union Address 1792-11-06\n",
       "4  George Washington   State of the Union Address 1793-12-03"
      ]
     },
     "execution_count": 2,
     "metadata": {},
     "output_type": "execute_result"
    }
   ],
   "source": [
    "# Addresses is a dataframe with all the basic data for the addresses:\n",
    "with open(\"data/stateoftheunion1790-2017.txt\") as f:\n",
    "    raw_text = f.read()\n",
    "#Addresses are separated by three asterisks as noted by the txt\n",
    "sections = raw_text.split(\"***\")\n",
    "#First index is contents. All others are speeches\n",
    "speeches = sections[1:]\n",
    "#Get CONTENTS section\n",
    "start = sections[0].find(\"CONTENTS\")\n",
    "#Get rid of 'CONTENTS'\n",
    "addresses = sections[0][start:].replace(\"CONTENTS\\n\\n\", \"\")\n",
    "#Each address is seperated by a newline. Get rid of last two rows of space\n",
    "addresses = addresses.split(\"\\n\")[:-2]\n",
    "#Turn extra spaces into one space\n",
    "addresses = [' '.join(address.split()) for address in addresses]\n",
    "#We know each line has President, Title of Address, and Date\n",
    "addresses = [address.split(\",\") for address in addresses]\n",
    "#Join the seperated dates caused by the above split.\n",
    "addresses = [address[:2] + [address[2] + \" \" + address[3]] for address in addresses]\n",
    "addresses = pd.DataFrame(addresses)\n",
    "addresses.columns = [\"president\", \"title\", \"date\"]\n",
    "addresses[\"date\"] = pd.to_datetime(addresses[\"date\"])\n",
    "addresses.head()"
   ]
  },
  {
   "cell_type": "markdown",
   "metadata": {},
   "source": [
    "Let's take a first look at a high-level summary of what we have so far:"
   ]
  },
  {
   "cell_type": "code",
   "execution_count": 3,
   "metadata": {},
   "outputs": [
    {
     "name": "stdout",
     "output_type": "stream",
     "text": [
      "Summary of presidents data\n",
      "count                       227\n",
      "unique                       42\n",
      "top       Franklin D. Roosevelt\n",
      "freq                         12\n",
      "Name: president, dtype: object\n",
      "\n",
      "Franklin D. Roosevelt addresses\n",
      "                 president                        title       date\n",
      "140  Franklin D. Roosevelt   State of the Union Address 1934-01-03\n",
      "141  Franklin D. Roosevelt   State of the Union Address 1935-01-04\n",
      "142  Franklin D. Roosevelt   State of the Union Address 1936-01-03\n",
      "143  Franklin D. Roosevelt   State of the Union Address 1937-01-06\n",
      "144  Franklin D. Roosevelt   State of the Union Address 1938-01-03\n",
      "145  Franklin D. Roosevelt   State of the Union Address 1939-01-04\n",
      "146  Franklin D. Roosevelt   State of the Union Address 1940-01-03\n",
      "147  Franklin D. Roosevelt   State of the Union Address 1941-01-06\n",
      "148  Franklin D. Roosevelt   State of the Union Address 1942-01-06\n",
      "149  Franklin D. Roosevelt   State of the Union Address 1943-01-07\n",
      "150  Franklin D. Roosevelt   State of the Union Address 1944-01-11\n",
      "151  Franklin D. Roosevelt   State of the Union Address 1945-01-06\n",
      "\n",
      "List of Presidents who delivered addressses\n",
      "['George Washington' 'John Adams' 'Thomas Jefferson' 'James Madison'\n",
      " 'James Monroe' 'John Quincy Adams' 'Andrew Jackson' 'Martin van Buren'\n",
      " 'John Tyler' 'James Polk' 'Zachary Taylor' 'Millard Fillmore'\n",
      " 'Franklin Pierce' 'James Buchanan' 'Abraham Lincoln' 'Andrew Johnson'\n",
      " 'Ulysses S. Grant' 'Rutherford B. Hayes' 'Chester A. Arthur'\n",
      " 'Grover Cleveland' 'Benjamin Harrison' 'William McKinley'\n",
      " 'Theodore Roosevelt' 'William H. Taft' 'Woodrow Wilson' 'Warren Harding'\n",
      " 'Calvin Coolidge' 'Herbert Hoover' 'Franklin D. Roosevelt'\n",
      " 'Harry S. Truman' 'Dwight D. Eisenhower' 'John F. Kennedy'\n",
      " 'Lyndon B. Johnson' 'Richard Nixon' 'Gerald R. Ford' 'Jimmy Carter'\n",
      " 'Ronald Reagan' 'George H.W. Bush' 'William J. Clinton' 'George W. Bush'\n",
      " 'Barack Obama' 'Donald J. Trump']\n"
     ]
    }
   ],
   "source": [
    "# Describe the presidents data\n",
    "print(\"Summary of presidents data\")\n",
    "print(addresses[\"president\"].describe())\n",
    "print()\n",
    "print(\"Franklin D. Roosevelt addresses\")\n",
    "print(addresses[addresses[\"president\"] == \"Franklin D. Roosevelt\"])\n",
    "print()\n",
    "print(\"List of Presidents who delivered addressses\")\n",
    "print(addresses[\"president\"].unique())"
   ]
  },
  {
   "cell_type": "markdown",
   "metadata": {},
   "source": [
    "Non-surprisingly, Franklin D. Roosevelt, the only president to serve more than two terms, appeared the most times in the data, delivering a total of 12 addresses.  \n",
    "\n",
    "Even though there are 45 presidents, there are only a total of 42 presidents in this dataframe. The missing presidents are: William Henry Harrison, who passed away one month into his presidency and James A. Garfield, who was assassinated in his first year. Grover Cleveland counts as 2 presidents because he was elected in two non-consecutive terms, the only time to happen in U.S. history!"
   ]
  },
  {
   "cell_type": "markdown",
   "metadata": {},
   "source": [
    "Let's find the dates of the first and last address, and how much time has passed between those:"
   ]
  },
  {
   "cell_type": "code",
   "execution_count": 4,
   "metadata": {},
   "outputs": [
    {
     "name": "stdout",
     "output_type": "stream",
     "text": [
      "First address: 1790-01-08 00:00:00\n",
      "Last address: 2017-02-27 00:00:00\n",
      "Years passed: 227.13535249828885\n"
     ]
    }
   ],
   "source": [
    "# This is roughly the number of years between the first and last address:\n",
    "\n",
    "begin = addresses[\"date\"].min()\n",
    "print(\"First address: \" + str(begin))\n",
    "end = addresses[\"date\"].max()\n",
    "print(\"Last address: \" + str(end))\n",
    "\n",
    "print(\"Years passed: \" + str(end.year - begin.year + (end.month - begin.month)/12 + (end.day - begin.day)/365.25))"
   ]
  },
  {
   "cell_type": "markdown",
   "metadata": {},
   "source": [
    "227 years have passed between the first address by George Washington on January 8th, 1790 and the most current address by Donald Trump on February 27, 2017."
   ]
  },
  {
   "cell_type": "markdown",
   "metadata": {},
   "source": [
    "Let's see during which months are the speeches most frequently delivered:"
   ]
  },
  {
   "cell_type": "code",
   "execution_count": 5,
   "metadata": {},
   "outputs": [
    {
     "data": {
      "text/plain": [
       "January       75\n",
       "February      12\n",
       "March          0\n",
       "April          0\n",
       "May            0\n",
       "June           0\n",
       "July           0\n",
       "August         0\n",
       "September      2\n",
       "October        3\n",
       "November      11\n",
       "December     124\n",
       "Name: Address counts, dtype: int64"
      ]
     },
     "execution_count": 5,
     "metadata": {},
     "output_type": "execute_result"
    }
   ],
   "source": [
    "# This is a count of the number of addresses delivered on any given month\n",
    "\n",
    "#Get the month from each date\n",
    "months = addresses[\"date\"]\n",
    "months = [month.strftime(\"%B\") for month in months]\n",
    "months = pd.Series(months)\n",
    "months.name = \"Address counts\"\n",
    "\n",
    "#Count how many addresses occur in each month.\n",
    "acounts = months.value_counts()\n",
    "months_list = ['January', 'February', 'March', 'April','May','June', 'July', 'August',\n",
    "               'September', 'October', 'November', 'December']\n",
    "#If a month does not appear, we know its count is 0.\n",
    "for month in months_list:\n",
    "    if month not in acounts.index:\n",
    "        acounts[month] = 0\n",
    "#Sort months.  \n",
    "acounts.index = pd.CategoricalIndex(acounts.index, categories= months_list, sorted=True)\n",
    "acounts = acounts.sort_index()\n",
    "acounts"
   ]
  },
  {
   "cell_type": "code",
   "execution_count": 6,
   "metadata": {},
   "outputs": [
    {
     "data": {
      "image/png": "[encoded data removed]",
      "text/plain": [
       "<matplotlib.figure.Figure at 0x1d2d515a780>"
      ]
     },
     "metadata": {},
     "output_type": "display_data"
    }
   ],
   "source": [
    "# And this is a plot of these:\n",
    "os.makedirs(\"fig\", exist_ok=True)\n",
    "\n",
    "plot = acounts.plot(kind = \"bar\", title = \"# of addresses per month\", rot = 45)\n",
    "plot.figure.tight_layout()\n",
    "plt.savefig('fig/addresses_month.png');"
   ]
  },
  {
   "cell_type": "markdown",
   "metadata": {},
   "source": [
    "Most of the addresses are delivered during January and December, most likely to outline the agenda and goals of the new year."
   ]
  },
  {
   "cell_type": "markdown",
   "metadata": {},
   "source": [
    "Let's look at the distribution of differences between successive speeches:"
   ]
  },
  {
   "cell_type": "markdown",
   "metadata": {},
   "source": [
    "Where is the largest gap? We can ask the `ddiff` series for its location:"
   ]
  },
  {
   "cell_type": "code",
   "execution_count": 7,
   "metadata": {},
   "outputs": [
    {
     "data": {
      "text/plain": [
       "104"
      ]
     },
     "execution_count": 7,
     "metadata": {},
     "output_type": "execute_result"
    }
   ],
   "source": [
    "# this is the index of the largest gap:\n",
    "ddiff = addresses[\"date\"].diff() \n",
    "dgap = ddiff.idxmax()\n",
    "dgap"
   ]
  },
  {
   "cell_type": "markdown",
   "metadata": {},
   "source": [
    "Let's look at the dates around this index:"
   ]
  },
  {
   "cell_type": "code",
   "execution_count": 8,
   "metadata": {},
   "outputs": [
    {
     "name": "stdout",
     "output_type": "stream",
     "text": [
      "102   1891-12-09\n",
      "103   1892-12-06\n",
      "104   1897-12-06\n",
      "105   1898-12-05\n",
      "Name: date, dtype: datetime64[ns]\n",
      "\n",
      "president              Benjamin Harrison\n",
      "title         State of the Union Address\n",
      "date                 1892-12-06 00:00:00\n",
      "Name: 103, dtype: object\n",
      "\n",
      "president               William McKinley\n",
      "title         State of the Union Address\n",
      "date                 1897-12-06 00:00:00\n",
      "Name: 104, dtype: object\n"
     ]
    }
   ],
   "source": [
    "dates = addresses[\"date\"]\n",
    "print(dates[dgap-2 : dgap+2])\n",
    "print()\n",
    "print(addresses.iloc[dgap-1])\n",
    "print()\n",
    "print(addresses.iloc[dgap])"
   ]
  },
  {
   "cell_type": "markdown",
   "metadata": {},
   "source": [
    "As well as a plot of these times:"
   ]
  },
  {
   "cell_type": "code",
   "execution_count": 9,
   "metadata": {},
   "outputs": [
    {
     "data": {
      "image/png": "[encoded data removed]",
      "text/plain": [
       "<matplotlib.figure.Figure at 0x1d2d648dc88>"
      ]
     },
     "metadata": {},
     "output_type": "display_data"
    }
   ],
   "source": [
    "# A plot of the times, along with 'rug' markers on the x axis.\n",
    "\n",
    "dates_df = dates.reset_index()\n",
    "dates_df.columns = [\"Speech Number\", \"Date\"]\n",
    "dates_df[\"Speech Number\"] += 1\n",
    "\n",
    "plt.plot_date(data= dates_df, x =  \"Date\", y = \"Speech Number\", linestyle = 'solid')\n",
    "plt.title(\"Timeline of State of the Union addresses\")\n",
    "plt.grid()\n",
    "plt.xlabel(\"Date\")\n",
    "plt.ylabel(\"Speech Number\")\n",
    "dates_df[\"Rug\"] = plt.ylim()[0]\n",
    "\n",
    "plt.plot_date(data= dates_df, x =  \"Date\", y = \"Rug\", marker = \"|\", color = \"red\", ms = 30)\n",
    "plt.ylim(dates_df[\"Rug\"][0])\n",
    "f = plt\n",
    "f.savefig('fig/timeline.png')\n"
   ]
  },
  {
   "cell_type": "markdown",
   "metadata": {},
   "source": [
    "There is a gap between the addresses delivered in 1892 by Benjamin Harrison and in 1897 by William McKinley. What happened at that gap? The presidency between the gap was the second term of Grover Cleveland, but he still delivered addresses in this time period according to online sources (http://www.presidency.ucsb.edu/sou.php). Thus, this gap is caused by the data not containing these addresses."
   ]
  },
  {
   "cell_type": "markdown",
   "metadata": {},
   "source": [
    "## Intermediate results\n",
    "\n",
    "Let's save some intermediate results for further analysis. This lets us work on subsequent notebooks  without rerunning this one.  We use the Pandas HDF5 support for efficient and type-safe serialization of data frames, and the python builtin [shelve](https://docs.python.org/3/library/shelve.html) module for simple Python variables.  We'll create for each notebook variable stores with the notebook number, one for dataframes (`df1.h5`, `df2.h5`, etc.) and one for python variables (`vars1.db`, `vars2.db`, etc.).  These will all go into the `results/` subdirectory."
   ]
  },
  {
   "cell_type": "code",
   "execution_count": 10,
   "metadata": {
    "collapsed": true
   },
   "outputs": [],
   "source": [
    "os.makedirs(\"results\", exist_ok=True) #Make results directory if it does not exist yet\n",
    "addresses.to_hdf('results/df1.h5', 'addresses')\n",
    "with shelve.open('results/vars1') as db:\n",
    "    db['speeches'] = speeches"
   ]
  }
 ],
 "metadata": {
  "anaconda-cloud": {},
  "kernelspec": {
   "display_name": "Python 3",
   "language": "python",
   "name": "python3"
  },
  "language_info": {
   "codemirror_mode": {
    "name": "ipython",
    "version": 3
   },
   "file_extension": ".py",
   "mimetype": "text/x-python",
   "name": "python",
   "nbconvert_exporter": "python",
   "pygments_lexer": "ipython3",
   "version": "3.6.3"
  }
 },
 "nbformat": 4,
 "nbformat_minor": 2
}
